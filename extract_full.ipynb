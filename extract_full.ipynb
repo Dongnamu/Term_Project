{
 "cells": [
  {
   "cell_type": "code",
   "execution_count": 3,
   "id": "4bbacc75",
   "metadata": {},
   "outputs": [],
   "source": [
    "import os\n",
    "import cv2\n",
    "import torch\n",
    "import torch.nn as nn\n",
    "import matplotlib.pyplot as plt\n",
    "from natsort import natsorted\n",
    "import shutil\n",
    "from multiprocessing import Pool"
   ]
  },
  {
   "cell_type": "code",
   "execution_count": 9,
   "id": "67755a24",
   "metadata": {},
   "outputs": [],
   "source": [
    "target_folder = '../Term_Project_New_Database'\n",
    "new_folder = '../Term_Project_New_Small'\n",
    "os.makedirs(new_folder, exist_ok=True)"
   ]
  },
  {
   "cell_type": "code",
   "execution_count": 10,
   "id": "52f625e6",
   "metadata": {},
   "outputs": [],
   "source": [
    "folders = [x for x in natsorted(os.listdir(target_folder))]\n",
    "videos = []\n",
    "dst_folder = []\n",
    "dst_folder_name = []\n",
    "for folder in folders:\n",
    "    folder_videos = natsorted(os.listdir(os.path.join(target_folder, folder)))\n",
    "    for video in folder_videos:\n",
    "        name = video.split('.')[0]\n",
    "        videos.append(os.path.join(target_folder, folder, video))\n",
    "        dst_folder_name.append(os.path.join(new_folder, folder))\n",
    "        dst_folder.append(os.path.join(new_folder, folder, '{}.mp4'.format(name)))"
   ]
  },
  {
   "cell_type": "code",
   "execution_count": 11,
   "id": "4ef1dc71",
   "metadata": {},
   "outputs": [],
   "source": [
    "def downsample(video, folder_name, dst):\n",
    "    os.makedirs(os.path.join(new_folder, folder_name), exist_ok=True)\n",
    "    os.system(f'ffmpeg -y -i {video} -s 720x480 -filter:v fps=25 -c:v libx264 -c:a copy {dst}')"
   ]
  },
  {
   "cell_type": "code",
   "execution_count": 12,
   "id": "7c91fa45",
   "metadata": {},
   "outputs": [],
   "source": [
    "pool = Pool(processes=10)\n",
    "pool.starmap(downsample, zip(videos, dst_folder_name, dst_folder))\n",
    "pool.terminate()\n",
    "pool.join()"
   ]
  },
  {
   "cell_type": "code",
   "execution_count": 2,
   "id": "507198e6",
   "metadata": {},
   "outputs": [],
   "source": [
    "source_folder = '../Term_Project_New_Small'\n",
    "target_folder = '../Term_Project_Full'"
   ]
  },
  {
   "cell_type": "code",
   "execution_count": 14,
   "id": "df6886e9",
   "metadata": {},
   "outputs": [],
   "source": [
    "originals = [os.path.join(source_folder, x) for x in natsorted(os.listdir(source_folder))]\n",
    "videos = [os.path.join(original, x) for original in originals for x in natsorted(os.listdir(original))]\n",
    "video_names = [x.split('.')[0] for original in originals for x in natsorted(os.listdir(original))]"
   ]
  },
  {
   "cell_type": "code",
   "execution_count": 15,
   "id": "b5d9040f",
   "metadata": {},
   "outputs": [],
   "source": [
    "for name in video_names:\n",
    "    os.makedirs(os.path.join(target_folder, name, 'full'), exist_ok=True)"
   ]
  },
  {
   "cell_type": "code",
   "execution_count": 16,
   "id": "5594f40f",
   "metadata": {},
   "outputs": [
    {
     "data": {
      "text/plain": [
       "1922"
      ]
     },
     "execution_count": 16,
     "metadata": {},
     "output_type": "execute_result"
    }
   ],
   "source": [
    "len(video_names)"
   ]
  },
  {
   "cell_type": "code",
   "execution_count": 17,
   "id": "8da28198",
   "metadata": {},
   "outputs": [],
   "source": [
    "def saveFull(video, name):\n",
    "    capture = cv2.VideoCapture(video)\n",
    "\n",
    "    count = 0\n",
    "    while(capture.isOpened()):\n",
    "        ret, frame = capture.read()\n",
    "\n",
    "        if not ret:\n",
    "            break\n",
    "        cv2.imwrite(os.path.join(target_folder, name, 'full', '{}.jpg'.format(count)), frame)\n",
    "\n",
    "        count += 1\n",
    "\n",
    "    capture.release()\n",
    "    "
   ]
  },
  {
   "cell_type": "code",
   "execution_count": 18,
   "id": "a5368806",
   "metadata": {},
   "outputs": [],
   "source": [
    "pool = Pool(processes=40)\n",
    "pool.starmap(saveFull, zip(videos, video_names))\n",
    "pool.terminate()\n",
    "pool.join()"
   ]
  },
  {
   "cell_type": "code",
   "execution_count": 4,
   "id": "2187390e",
   "metadata": {},
   "outputs": [
    {
     "data": {
      "text/plain": [
       "4818"
      ]
     },
     "execution_count": 4,
     "metadata": {},
     "output_type": "execute_result"
    }
   ],
   "source": [
    "processed_folders = [os.path.join('../Term_Project_Full', x) for x in natsorted(os.listdir('../Term_Project_Full')) if os.path.isdir(os.path.join('../Term_Project_Full', x))]"
   ]
  },
  {
   "cell_type": "code",
   "execution_count": 8,
   "id": "2fc4fe47",
   "metadata": {},
   "outputs": [
    {
     "data": {
      "text/plain": [
       "188"
      ]
     },
     "execution_count": 8,
     "metadata": {},
     "output_type": "execute_result"
    }
   ],
   "source": [
    "unprocessed_folders = processed_folders[4630:]\n",
    "gpu = [i % 4 for i in range(len(unprocessed_folders))]\n",
    "len(unprocessed_folders)"
   ]
  },
  {
   "cell_type": "code",
   "execution_count": 9,
   "id": "3781b878",
   "metadata": {},
   "outputs": [],
   "source": [
    "def trigger_crop_portrait(folder, gpu):\n",
    "    os.system(f'python audiodvp_utils/crop_portrait.py --data_dir {folder} --dest_size 224 --gpu_ids {gpu}')"
   ]
  },
  {
   "cell_type": "code",
   "execution_count": 10,
   "id": "0de7e644",
   "metadata": {},
   "outputs": [],
   "source": [
    "pool = Pool(processes=4)\n",
    "pool.starmap(trigger_crop_portrait, zip(unprocessed_folders, gpu))\n",
    "pool.terminate()\n",
    "pool.join()"
   ]
  },
  {
   "cell_type": "code",
   "execution_count": 1,
   "id": "7dcb3cbc",
   "metadata": {},
   "outputs": [],
   "source": [
    "import os\n",
    "from audiodvp_utils.util import get_file_list, extract_face_emb\n",
    "from torchvision import transforms\n",
    "from tqdm import tqdm\n",
    "from multiprocessing import Pool\n",
    "\n",
    "data_path = '../Term_Project_Full'\n",
    "directory = [x for x in sorted(os.listdir(data_path)) if os.path.isdir(os.path.join(data_path, x))]\n",
    "transforms_input = transforms.Compose([\n",
    "                                    transforms.Resize((224, 224)),\n",
    "                                    transforms.ToTensor(),\n",
    "                                    transforms.Normalize(mean=[0.5141, 0.4074, 0.3588], std=[1.0, 1.0, 1.0])\n",
    "                                    ])\n",
    "\n",
    "def extractEmb(directory, gpu):\n",
    "    image_list = get_file_list(os.path.join(data_path, directory, 'crop'))\n",
    "    save_path = os.path.join(data_path, directory, 'face_emb.pkl')\n",
    "    extract_face_emb(image_list, save_path, transforms_input, gpu)"
   ]
  },
  {
   "cell_type": "code",
   "execution_count": 2,
   "id": "2eea0c1e",
   "metadata": {},
   "outputs": [
    {
     "name": "stderr",
     "output_type": "stream",
     "text": [
      "/home/server24/anaconda3/envs/pix2pix/lib/python3.8/site-packages/torch/nn/functional.py:718: UserWarning: Named tensors and all their associated APIs are an experimental feature and subject to change. Please do not use them for anything important until they are released as stable. (Triggered internally at  /opt/conda/conda-bld/pytorch_1623448278899/work/c10/core/TensorImpl.h:1156.)\n",
      "  return torch.max_pool2d(input, kernel_size, stride, padding, dilation, ceil_mode)\n",
      "/home/server24/anaconda3/envs/pix2pix/lib/python3.8/site-packages/torch/nn/functional.py:718: UserWarning: Named tensors and all their associated APIs are an experimental feature and subject to change. Please do not use them for anything important until they are released as stable. (Triggered internally at  /opt/conda/conda-bld/pytorch_1623448278899/work/c10/core/TensorImpl.h:1156.)\n",
      "  return torch.max_pool2d(input, kernel_size, stride, padding, dilation, ceil_mode)\n",
      "/home/server24/anaconda3/envs/pix2pix/lib/python3.8/site-packages/torch/nn/functional.py:718: UserWarning: Named tensors and all their associated APIs are an experimental feature and subject to change. Please do not use them for anything important until they are released as stable. (Triggered internally at  /opt/conda/conda-bld/pytorch_1623448278899/work/c10/core/TensorImpl.h:1156.)\n",
      "  return torch.max_pool2d(input, kernel_size, stride, padding, dilation, ceil_mode)\n",
      "/home/server24/anaconda3/envs/pix2pix/lib/python3.8/site-packages/torch/nn/functional.py:718: UserWarning: Named tensors and all their associated APIs are an experimental feature and subject to change. Please do not use them for anything important until they are released as stable. (Triggered internally at  /opt/conda/conda-bld/pytorch_1623448278899/work/c10/core/TensorImpl.h:1156.)\n",
      "  return torch.max_pool2d(input, kernel_size, stride, padding, dilation, ceil_mode)\n"
     ]
    }
   ],
   "source": [
    "gpu = [i % 4 for i in range(len(directory))]\n",
    "\n",
    "pool = Pool(processes=4)\n",
    "pool.starmap(extractEmb, zip(directory, gpu))\n",
    "pool.terminate()\n",
    "pool.join()"
   ]
  },
  {
   "cell_type": "code",
   "execution_count": null,
   "id": "882c38dc",
   "metadata": {},
   "outputs": [],
   "source": []
  }
 ],
 "metadata": {
  "kernelspec": {
   "display_name": "Python 3",
   "language": "python",
   "name": "python3"
  },
  "language_info": {
   "codemirror_mode": {
    "name": "ipython",
    "version": 3
   },
   "file_extension": ".py",
   "mimetype": "text/x-python",
   "name": "python",
   "nbconvert_exporter": "python",
   "pygments_lexer": "ipython3",
   "version": "3.8.11"
  }
 },
 "nbformat": 4,
 "nbformat_minor": 5
}
